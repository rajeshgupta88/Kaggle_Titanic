{
 "cells": [
  {
   "cell_type": "code",
   "execution_count": 1,
   "metadata": {
    "collapsed": true
   },
   "outputs": [],
   "source": [
    "import csv as csv\n",
    "import numpy as np"
   ]
  },
  {
   "cell_type": "code",
   "execution_count": 2,
   "metadata": {
    "collapsed": true
   },
   "outputs": [],
   "source": [
    "csv_file_object = csv.reader(open('train.csv','rb'))"
   ]
  },
  {
   "cell_type": "code",
   "execution_count": 3,
   "metadata": {
    "collapsed": true
   },
   "outputs": [],
   "source": [
    "header=csv_file_object.next()"
   ]
  },
  {
   "cell_type": "code",
   "execution_count": 16,
   "metadata": {
    "collapsed": false
   },
   "outputs": [
    {
     "data": {
      "text/plain": [
       "['PassengerId',\n",
       " 'Survived',\n",
       " 'Pclass',\n",
       " 'Name',\n",
       " 'Sex',\n",
       " 'Age',\n",
       " 'SibSp',\n",
       " 'Parch',\n",
       " 'Ticket',\n",
       " 'Fare',\n",
       " 'Cabin',\n",
       " 'Embarked']"
      ]
     },
     "execution_count": 16,
     "metadata": {},
     "output_type": "execute_result"
    }
   ],
   "source": [
    "header"
   ]
  },
  {
   "cell_type": "code",
   "execution_count": 4,
   "metadata": {
    "collapsed": true
   },
   "outputs": [],
   "source": [
    "data =[]"
   ]
  },
  {
   "cell_type": "code",
   "execution_count": 12,
   "metadata": {
    "collapsed": true
   },
   "outputs": [],
   "source": [
    "for row in csv_file_object:\n",
    "    data.append(row)"
   ]
  },
  {
   "cell_type": "code",
   "execution_count": 13,
   "metadata": {
    "collapsed": false
   },
   "outputs": [
    {
     "data": {
      "text/plain": [
       "891"
      ]
     },
     "execution_count": 13,
     "metadata": {},
     "output_type": "execute_result"
    }
   ],
   "source": [
    "len(data)"
   ]
  },
  {
   "cell_type": "code",
   "execution_count": 14,
   "metadata": {
    "collapsed": true
   },
   "outputs": [],
   "source": [
    "data=np.array(data)"
   ]
  },
  {
   "cell_type": "code",
   "execution_count": 15,
   "metadata": {
    "collapsed": false
   },
   "outputs": [
    {
     "data": {
      "text/plain": [
       "numpy.ndarray"
      ]
     },
     "execution_count": 15,
     "metadata": {},
     "output_type": "execute_result"
    }
   ],
   "source": [
    "type(data)"
   ]
  },
  {
   "cell_type": "code",
   "execution_count": 19,
   "metadata": {
    "collapsed": true
   },
   "outputs": [],
   "source": [
    "# If the fare is greater than 39, then change the data in that field\n",
    "# to 39 only\n",
    "\n",
    "fare_ceiling =40\n",
    "\n",
    "data[data[:,9].astype(np.float)>= fare_ceiling,9]=fare_ceiling -1\n",
    "\n",
    "# print data[:,9]"
   ]
  },
  {
   "cell_type": "code",
   "execution_count": 21,
   "metadata": {
    "collapsed": false
   },
   "outputs": [],
   "source": [
    "# create the price buckets\n",
    "# Calculate the different classes on board. ALthough we know that value is 3\n",
    "\n",
    "fare_bucket_size=10\n",
    "\n",
    "number_of_price_buckets = fare_ceiling/fare_bucket_size\n",
    "\n",
    "number_of_classes = len(np.unique(data[:,2]))"
   ]
  },
  {
   "cell_type": "code",
   "execution_count": 25,
   "metadata": {
    "collapsed": false
   },
   "outputs": [],
   "source": [
    "# This reference matrix will show the proportion of survivors as a sorted table of\n",
    "# gender, class and ticket fare.\n",
    "# First initialize it with all zeros\n",
    "# 2 rows corresponding to men and women\n",
    "\n",
    "survival_table = np.zeros([2,number_of_classes,number_of_price_buckets],float)"
   ]
  },
  {
   "cell_type": "code",
   "execution_count": 33,
   "metadata": {
    "collapsed": false
   },
   "outputs": [
    {
     "data": {
      "text/plain": [
       "(2, 3, 4)"
      ]
     },
     "execution_count": 33,
     "metadata": {},
     "output_type": "execute_result"
    }
   ],
   "source": [
    "survival_table.shape"
   ]
  },
  {
   "cell_type": "code",
   "execution_count": 41,
   "metadata": {
    "collapsed": false
   },
   "outputs": [],
   "source": [
    "# Stats of all women and men on the board\n",
    "\n",
    "for i in xrange(number_of_classes):\n",
    "    for j in xrange(number_of_price_buckets):\n",
    "        \n",
    "        women_only_stats = data[(data[:,4]=='female')\\\n",
    "                               & (data[:,2].astype(np.float)==i+1)\\\n",
    "                               & (data[:,9].astype(np.float)>= j*fare_bucket_size)\\\n",
    "                               & (data[:,9].astype(np.float)< (j+1)*fare_bucket_size),1]\n",
    "        \n",
    "        men_only_stats = data[(data[:,4]!='female')\\\n",
    "                               & (data[:,2].astype(np.float)==i+1)\\\n",
    "                               & (data[:,9].astype(np.float)>= j*fare_bucket_size)\\\n",
    "                               & (data[:,9].astype(np.float)< (j+1)*fare_bucket_size),1]\n",
    "        \n",
    "    \n",
    "        # for women\n",
    "        survival_table[0,i,j]= np.mean(women_only_stats.astype(np.float))\n",
    "        # for men\n",
    "        survival_table[1,i,j]=np.mean(men_only_stats.astype(np.float))"
   ]
  },
  {
   "cell_type": "code",
   "execution_count": 42,
   "metadata": {
    "collapsed": false
   },
   "outputs": [
    {
     "name": "stdout",
     "output_type": "stream",
     "text": [
      "[[[        nan         nan  0.83333333  0.97727273]\n",
      "  [        nan  0.91428571  0.9         1.        ]\n",
      "  [ 0.59375     0.58139535  0.33333333  0.125     ]]\n",
      "\n",
      " [[ 0.                 nan  0.4         0.38372093]\n",
      "  [ 0.          0.15873016  0.16        0.21428571]\n",
      "  [ 0.11153846  0.23684211  0.125       0.24      ]]]\n"
     ]
    }
   ],
   "source": [
    "print survival_table"
   ]
  },
  {
   "cell_type": "code",
   "execution_count": 48,
   "metadata": {
    "collapsed": false
   },
   "outputs": [
    {
     "name": "stdout",
     "output_type": "stream",
     "text": [
      "[[[ 0.          0.          0.83333333  0.97727273]\n",
      "  [ 0.          0.91428571  0.9         1.        ]\n",
      "  [ 0.59375     0.58139535  0.33333333  0.125     ]]\n",
      "\n",
      " [[ 0.          0.          0.4         0.38372093]\n",
      "  [ 0.          0.15873016  0.16        0.21428571]\n",
      "  [ 0.11153846  0.23684211  0.125       0.24      ]]]\n"
     ]
    }
   ],
   "source": [
    "# Since in python if it tries to find the mean of an array with nothing in it\n",
    "# (such that the denominator is 0), then it returns nan, we can convert these to 0\n",
    "# by just saying where does the array not equal the array, and set these to 0.\n",
    "\n",
    "survival_table[survival_table!= survival_table]=0\n",
    "print survival_table"
   ]
  },
  {
   "cell_type": "code",
   "execution_count": 49,
   "metadata": {
    "collapsed": true
   },
   "outputs": [],
   "source": [
    "# Now I have my proportion of survivors, simply round them such that if <0.5\n",
    "# I predict they dont surivive, and if >= 0.5 they do\n",
    "\n",
    "survival_table[survival_table <0.5]=0\n",
    "survival_table[survival_table >0.5]=1"
   ]
  },
  {
   "cell_type": "code",
   "execution_count": 50,
   "metadata": {
    "collapsed": false
   },
   "outputs": [
    {
     "name": "stdout",
     "output_type": "stream",
     "text": [
      "[[[ 0.  0.  1.  1.]\n",
      "  [ 0.  1.  1.  1.]\n",
      "  [ 1.  1.  0.  0.]]\n",
      "\n",
      " [[ 0.  0.  0.  0.]\n",
      "  [ 0.  0.  0.  0.]\n",
      "  [ 0.  0.  0.  0.]]]\n"
     ]
    }
   ],
   "source": [
    "print survival_table"
   ]
  },
  {
   "cell_type": "code",
   "execution_count": 63,
   "metadata": {
    "collapsed": true
   },
   "outputs": [],
   "source": [
    "# Now I have my indicator I can read in the test file and write out\n",
    "# if a women then survived(1) if a man then did not survived (0)\n",
    "# First read in test\n",
    "test_file = open('test.csv', 'rb')\n",
    "test_file_object = csv.reader(test_file)\n",
    "header = test_file_object.next()\n",
    "\n",
    "# Also open the a new file so I can write to it. \n",
    "predictions_file = open(\"genderclassmodel_rg.csv\", \"wb\")\n",
    "predictions_file_object = csv.writer(predictions_file)\n",
    "predictions_file_object.writerow([\"PassengerId\", \"Survived\"])"
   ]
  },
  {
   "cell_type": "code",
   "execution_count": 64,
   "metadata": {
    "collapsed": false
   },
   "outputs": [
    {
     "name": "stdout",
     "output_type": "stream",
     "text": [
      "['PassengerId', 'Pclass', 'Name', 'Sex', 'Age', 'SibSp', 'Parch', 'Ticket', 'Fare', 'Cabin', 'Embarked']\n",
      "3\n",
      "4\n"
     ]
    }
   ],
   "source": [
    "\n",
    "\n",
    "print header\n",
    "print number_of_classes\n",
    "print number_of_price_buckets"
   ]
  },
  {
   "cell_type": "code",
   "execution_count": 65,
   "metadata": {
    "collapsed": false
   },
   "outputs": [
    {
     "name": "stderr",
     "output_type": "stream",
     "text": [
      "/Users/anaconda/lib/python2.7/site-packages/ipykernel/__main__.py:23: VisibleDeprecationWarning: using a non-integer number instead of an integer will result in an error in the future\n",
      "/Users/anaconda/lib/python2.7/site-packages/ipykernel/__main__.py:20: VisibleDeprecationWarning: using a non-integer number instead of an integer will result in an error in the future\n"
     ]
    }
   ],
   "source": [
    "# first thing to do is bin up the price file\n",
    "for row in test_file_object:\n",
    "    for j in xrange(number_of_price_buckets):\n",
    "        try:\n",
    "            row[8] = float(row[8]) # No fare will be come up as string\n",
    "            \n",
    "        except:\n",
    "            bin_fare = 3-float(row[1]) # # If there is no fare then place the price of the ticket according to class\n",
    "            break\n",
    "            \n",
    "        if row[8]>fare_ceiling:\n",
    "            bin_fare= number_of_price_buckets -1\n",
    "            break\n",
    "        \n",
    "        if row[8]>= j*fare_bucket_size and row[8]<(j+1)*fare_bucket_size:\n",
    "            bin_fare =j\n",
    "            break\n",
    "            \n",
    "    if row[3]=='female':\n",
    "        predictions_file_object.writerow([row[0],\"%d\" % int(survival_table[0,float(row[1])-1,bin_fare])])\n",
    "        \n",
    "    else:\n",
    "        predictions_file_object.writerow([row[0],\"%d\" % int(survival_table[1,float(row[1])-1,bin_fare])])\n",
    "            \n",
    "            \n",
    "            \n",
    "            \n",
    "            "
   ]
  },
  {
   "cell_type": "code",
   "execution_count": 66,
   "metadata": {
    "collapsed": false
   },
   "outputs": [],
   "source": [
    "test_file.close()\n",
    "predictions_file.close()"
   ]
  },
  {
   "cell_type": "code",
   "execution_count": null,
   "metadata": {
    "collapsed": true
   },
   "outputs": [],
   "source": []
  }
 ],
 "metadata": {
  "kernelspec": {
   "display_name": "Python [Root]",
   "language": "python",
   "name": "Python [Root]"
  },
  "language_info": {
   "codemirror_mode": {
    "name": "ipython",
    "version": 2
   },
   "file_extension": ".py",
   "mimetype": "text/x-python",
   "name": "python",
   "nbconvert_exporter": "python",
   "pygments_lexer": "ipython2",
   "version": "2.7.11"
  }
 },
 "nbformat": 4,
 "nbformat_minor": 0
}
